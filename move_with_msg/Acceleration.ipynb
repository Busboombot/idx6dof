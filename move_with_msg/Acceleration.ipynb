{
 "cells": [
  {
   "cell_type": "code",
   "execution_count": 98,
   "metadata": {
    "collapsed": false
   },
   "outputs": [
    {
     "data": {
      "text/plain": [
       "(0.0005, 0.001, 2.5e-10, 2000000.0, 1500.0, 3.3333333333333335e-07, 0.00075)"
      ]
     },
     "execution_count": 98,
     "metadata": {},
     "output_type": "execute_result"
    }
   ],
   "source": [
    "\n",
    "import pandas as pd\n",
    "import numpy as np\n",
    "%matplotlib inline\n",
    "\n",
    "v0 = 500. / 1000000. # Initial velocity\n",
    "v = 1000. / 1000000. # Final velocity steps per second\n",
    "a = 250. / (1000000.**2)# Acell in steps /s^2\n",
    "\n",
    "ta = (v - v0) / a # Acceleration time\n",
    "s = (v**2 - v0**2) / (2.0*a) # Acceleration distance in steps. \n",
    "\n",
    "dac = (v-v0)/s # Velocity change per step\n",
    "\n",
    "df = pd.DataFrame({ 's': range(int(s))})\n",
    "\n",
    "spms = s/ta  # Steps per microsecond\n",
    "\n",
    "v0, v, a, ta, s, dac, spms"
   ]
  },
  {
   "cell_type": "code",
   "execution_count": 87,
   "metadata": {
    "collapsed": false
   },
   "outputs": [
    {
     "data": {
      "text/plain": [
       "0.00075"
      ]
     },
     "execution_count": 87,
     "metadata": {},
     "output_type": "execute_result"
    }
   ],
   "source": [
    "\n"
   ]
  },
  {
   "cell_type": "code",
   "execution_count": null,
   "metadata": {
    "collapsed": true
   },
   "outputs": [],
   "source": []
  }
 ],
 "metadata": {
  "kernelspec": {
   "display_name": "Python 2",
   "language": "python",
   "name": "python2"
  },
  "language_info": {
   "codemirror_mode": {
    "name": "ipython",
    "version": 2
   },
   "file_extension": ".py",
   "mimetype": "text/x-python",
   "name": "python",
   "nbconvert_exporter": "python",
   "pygments_lexer": "ipython2",
   "version": "2.7.10"
  }
 },
 "nbformat": 4,
 "nbformat_minor": 1
}
