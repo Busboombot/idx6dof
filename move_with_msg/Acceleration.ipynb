{
 "cells": [
  {
   "cell_type": "code",
   "execution_count": 2,
   "metadata": {
    "collapsed": false
   },
   "outputs": [
    {
     "name": "stderr",
     "output_type": "stream",
     "text": [
      "/Volumes/Storage/proj/virt/idx6dof/lib/python2.7/site-packages/matplotlib/font_manager.py:273: UserWarning: Matplotlib is building the font cache using fc-list. This may take a moment.\n",
      "  warnings.warn('Matplotlib is building the font cache using fc-list. This may take a moment.')\n"
     ]
    },
    {
     "data": {
      "text/plain": [
       "(0.0005, 0.001, 2.5e-10, 2000000.0, 1500.0, 3.3333333333333335e-07, 0.00075)"
      ]
     },
     "execution_count": 2,
     "metadata": {},
     "output_type": "execute_result"
    }
   ],
   "source": [
    "\n",
    "import pandas as pd\n",
    "import numpy as np\n",
    "%matplotlib inline\n",
    "\n",
    "v0 = 500. / 1000000. # Initial velocity\n",
    "v = 1000. / 1000000. # Final velocity steps per second\n",
    "a = 250. / (1000000.**2)# Acell in steps /s^2\n",
    "\n",
    "ta = (v - v0) / a # Acceleration time\n",
    "s = (v**2 - v0**2) / (2.0*a) # Acceleration distance in steps. \n",
    "\n",
    "dac = (v-v0)/s # Velocity change per step\n",
    "\n",
    "df = pd.DataFrame({ 's': range(int(s))})\n",
    "\n",
    "spms = s/ta  # Steps per microsecond\n",
    "\n",
    "v0, v, a, ta, s, dac, spms"
   ]
  },
  {
   "cell_type": "code",
   "execution_count": 38,
   "metadata": {
    "collapsed": false
   },
   "outputs": [],
   "source": [
    "N = 50000\n",
    "usps = 1000000. # microsecons per second\n",
    "dt = 1 # seconds\n",
    "df = pd.DataFrame({ 't': np.linspace(0,dt, N)})\n"
   ]
  },
  {
   "cell_type": "code",
   "execution_count": 42,
   "metadata": {
    "collapsed": false
   },
   "outputs": [],
   "source": [
    "df['a'] = 0\n",
    "df.loc[df.t < .2,'a'] = 1\n",
    "df.loc[df.t > .8,'a'] = -1"
   ]
  },
  {
   "cell_type": "code",
   "execution_count": 43,
   "metadata": {
    "collapsed": false
   },
   "outputs": [
    {
     "data": {
      "text/plain": [
       "<matplotlib.axes._subplots.AxesSubplot at 0x105f20e50>"
      ]
     },
     "execution_count": 43,
     "metadata": {},
     "output_type": "execute_result"
    },
    {
     "data": {
      "image/png": "[encoded data removed]",
      "text/plain": [
       "<matplotlib.figure.Figure at 0x10631d9d0>"
      ]
     },
     "metadata": {},
     "output_type": "display_data"
    }
   ],
   "source": [
    "df.plot(x='t',y='x')"
   ]
  },
  {
   "cell_type": "code",
   "execution_count": null,
   "metadata": {
    "collapsed": true
   },
   "outputs": [],
   "source": []
  }
 ],
 "metadata": {
  "kernelspec": {
   "display_name": "Python 2",
   "language": "python",
   "name": "python2"
  },
  "language_info": {
   "codemirror_mode": {
    "name": "ipython",
    "version": 2
   },
   "file_extension": ".py",
   "mimetype": "text/x-python",
   "name": "python",
   "nbconvert_exporter": "python",
   "pygments_lexer": "ipython2",
   "version": "2.7.10"
  }
 },
 "nbformat": 4,
 "nbformat_minor": 1
}
