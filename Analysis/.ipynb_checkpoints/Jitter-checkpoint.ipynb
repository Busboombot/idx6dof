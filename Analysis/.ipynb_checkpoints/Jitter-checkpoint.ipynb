{
 "cells": [
  {
   "cell_type": "code",
   "execution_count": 1,
   "id": "80982bfd-9630-4f20-8769-2be9b59c6c51",
   "metadata": {},
   "outputs": [],
   "source": [
    "import pandas as pd\n",
    "import matplotlib.pyplot as plt\n",
    "\n"
   ]
  },
  {
   "cell_type": "code",
   "execution_count": 30,
   "id": "9b7bd502-9c9c-44ca-a650-021a1b398047",
   "metadata": {},
   "outputs": [
    {
     "data": {
      "text/html": [
       "<div>\n",
       "<style scoped>\n",
       "    .dataframe tbody tr th:only-of-type {\n",
       "        vertical-align: middle;\n",
       "    }\n",
       "\n",
       "    .dataframe tbody tr th {\n",
       "        vertical-align: top;\n",
       "    }\n",
       "\n",
       "    .dataframe thead th {\n",
       "        text-align: right;\n",
       "    }\n",
       "</style>\n",
       "<table border=\"1\" class=\"dataframe\">\n",
       "  <thead>\n",
       "    <tr style=\"text-align: right;\">\n",
       "      <th></th>\n",
       "      <th>t</th>\n",
       "      <th>v</th>\n",
       "      <th>v2</th>\n",
       "      <th>d</th>\n",
       "    </tr>\n",
       "  </thead>\n",
       "  <tbody>\n",
       "    <tr>\n",
       "      <th>2</th>\n",
       "      <td>0.001323</td>\n",
       "      <td>False</td>\n",
       "      <td>True</td>\n",
       "      <td>2000</td>\n",
       "    </tr>\n",
       "    <tr>\n",
       "      <th>4</th>\n",
       "      <td>0.001327</td>\n",
       "      <td>False</td>\n",
       "      <td>True</td>\n",
       "      <td>2000</td>\n",
       "    </tr>\n",
       "    <tr>\n",
       "      <th>6</th>\n",
       "      <td>0.003095</td>\n",
       "      <td>False</td>\n",
       "      <td>True</td>\n",
       "      <td>2000</td>\n",
       "    </tr>\n",
       "    <tr>\n",
       "      <th>8</th>\n",
       "      <td>0.004187</td>\n",
       "      <td>False</td>\n",
       "      <td>True</td>\n",
       "      <td>1999</td>\n",
       "    </tr>\n",
       "    <tr>\n",
       "      <th>10</th>\n",
       "      <td>0.005031</td>\n",
       "      <td>False</td>\n",
       "      <td>True</td>\n",
       "      <td>2000</td>\n",
       "    </tr>\n",
       "    <tr>\n",
       "      <th>12</th>\n",
       "      <td>0.005739</td>\n",
       "      <td>False</td>\n",
       "      <td>True</td>\n",
       "      <td>2000</td>\n",
       "    </tr>\n",
       "    <tr>\n",
       "      <th>14</th>\n",
       "      <td>0.006359</td>\n",
       "      <td>False</td>\n",
       "      <td>True</td>\n",
       "      <td>2000</td>\n",
       "    </tr>\n",
       "    <tr>\n",
       "      <th>16</th>\n",
       "      <td>0.006919</td>\n",
       "      <td>False</td>\n",
       "      <td>True</td>\n",
       "      <td>1999</td>\n",
       "    </tr>\n",
       "    <tr>\n",
       "      <th>18</th>\n",
       "      <td>0.007431</td>\n",
       "      <td>False</td>\n",
       "      <td>True</td>\n",
       "      <td>2000</td>\n",
       "    </tr>\n",
       "    <tr>\n",
       "      <th>20</th>\n",
       "      <td>0.007903</td>\n",
       "      <td>False</td>\n",
       "      <td>True</td>\n",
       "      <td>2000</td>\n",
       "    </tr>\n",
       "    <tr>\n",
       "      <th>22</th>\n",
       "      <td>0.008351</td>\n",
       "      <td>False</td>\n",
       "      <td>True</td>\n",
       "      <td>2000</td>\n",
       "    </tr>\n",
       "    <tr>\n",
       "      <th>24</th>\n",
       "      <td>0.008771</td>\n",
       "      <td>False</td>\n",
       "      <td>True</td>\n",
       "      <td>1999</td>\n",
       "    </tr>\n",
       "    <tr>\n",
       "      <th>26</th>\n",
       "      <td>0.009167</td>\n",
       "      <td>False</td>\n",
       "      <td>True</td>\n",
       "      <td>2000</td>\n",
       "    </tr>\n",
       "    <tr>\n",
       "      <th>28</th>\n",
       "      <td>0.009547</td>\n",
       "      <td>False</td>\n",
       "      <td>True</td>\n",
       "      <td>2000</td>\n",
       "    </tr>\n",
       "    <tr>\n",
       "      <th>30</th>\n",
       "      <td>0.009911</td>\n",
       "      <td>False</td>\n",
       "      <td>True</td>\n",
       "      <td>2000</td>\n",
       "    </tr>\n",
       "    <tr>\n",
       "      <th>32</th>\n",
       "      <td>0.010263</td>\n",
       "      <td>False</td>\n",
       "      <td>True</td>\n",
       "      <td>2000</td>\n",
       "    </tr>\n",
       "    <tr>\n",
       "      <th>34</th>\n",
       "      <td>0.010599</td>\n",
       "      <td>False</td>\n",
       "      <td>True</td>\n",
       "      <td>2000</td>\n",
       "    </tr>\n",
       "    <tr>\n",
       "      <th>36</th>\n",
       "      <td>0.010923</td>\n",
       "      <td>False</td>\n",
       "      <td>True</td>\n",
       "      <td>2000</td>\n",
       "    </tr>\n",
       "    <tr>\n",
       "      <th>38</th>\n",
       "      <td>0.011239</td>\n",
       "      <td>False</td>\n",
       "      <td>True</td>\n",
       "      <td>2000</td>\n",
       "    </tr>\n",
       "    <tr>\n",
       "      <th>40</th>\n",
       "      <td>0.011547</td>\n",
       "      <td>False</td>\n",
       "      <td>True</td>\n",
       "      <td>2000</td>\n",
       "    </tr>\n",
       "  </tbody>\n",
       "</table>\n",
       "</div>"
      ],
      "text/plain": [
       "           t      v    v2     d\n",
       "2   0.001323  False  True  2000\n",
       "4   0.001327  False  True  2000\n",
       "6   0.003095  False  True  2000\n",
       "8   0.004187  False  True  1999\n",
       "10  0.005031  False  True  2000\n",
       "12  0.005739  False  True  2000\n",
       "14  0.006359  False  True  2000\n",
       "16  0.006919  False  True  1999\n",
       "18  0.007431  False  True  2000\n",
       "20  0.007903  False  True  2000\n",
       "22  0.008351  False  True  2000\n",
       "24  0.008771  False  True  1999\n",
       "26  0.009167  False  True  2000\n",
       "28  0.009547  False  True  2000\n",
       "30  0.009911  False  True  2000\n",
       "32  0.010263  False  True  2000\n",
       "34  0.010599  False  True  2000\n",
       "36  0.010923  False  True  2000\n",
       "38  0.011239  False  True  2000\n",
       "40  0.011547  False  True  2000"
      ]
     },
     "execution_count": 30,
     "metadata": {},
     "output_type": "execute_result"
    }
   ],
   "source": [
    "df = pd.read_csv('digital_2axes.csv')\n",
    "\n",
    "def process_timing(df):\n",
    "    df.columns = ['t','v']\n",
    "    df['v'] = df.v.astype(bool)\n",
    "    df['v2'] =  df.shift().v \n",
    "    df['d'] = ((df.t - df.t.shift())*1e9).fillna(0).astype(int) # Time difference\n",
    "    df = df.iloc[2:-1] # Drop all but first and last\n",
    "    on_t = df[(df.v==False) & (df.v2 == True)] # On time == width of the pulses\n",
    "    inter_t = df[(df.v== True) & (df.v2 == False)] # Off time == time between pulses == frequency\n",
    "    \n",
    "    return on_t, inter_t\n",
    "\n",
    "on_t, inter_t = process_timing(df)\n",
    "on_t.head(20)"
   ]
  },
  {
   "cell_type": "code",
   "execution_count": 31,
   "id": "8163397a-5941-4e83-8add-01dc361c10d2",
   "metadata": {},
   "outputs": [
    {
     "data": {
      "text/plain": [
       "count    192000.000000\n",
       "mean       2042.192474\n",
       "std         201.965608\n",
       "min        1999.000000\n",
       "25%        1999.000000\n",
       "50%        2000.000000\n",
       "75%        2000.000000\n",
       "max        3000.000000\n",
       "Name: d, dtype: float64"
      ]
     },
     "execution_count": 31,
     "metadata": {},
     "output_type": "execute_result"
    }
   ],
   "source": [
    "on_t.d.describe()\n"
   ]
  },
  {
   "cell_type": "code",
   "execution_count": 32,
   "id": "b3ed39c9-595e-4a6f-b05f-23e935b71e69",
   "metadata": {},
   "outputs": [
    {
     "data": {
      "text/plain": [
       "<AxesSubplot:>"
      ]
     },
     "execution_count": 32,
     "metadata": {},
     "output_type": "execute_result"
    },
    {
     "data": {
      "image/png": "[encoded data removed]",
      "text/plain": [
       "<Figure size 432x288 with 1 Axes>"
      ]
     },
     "metadata": {
      "needs_background": "light"
     },
     "output_type": "display_data"
    }
   ],
   "source": [
    "inter_t.d.iloc[20000:20100].plot()"
   ]
  },
  {
   "cell_type": "code",
   "execution_count": 33,
   "id": "e9515233-ebb8-4443-b8b9-0b18f7a8ab72",
   "metadata": {},
   "outputs": [
    {
     "data": {
      "text/plain": [
       "<AxesSubplot:>"
      ]
     },
     "execution_count": 33,
     "metadata": {},
     "output_type": "execute_result"
    },
    {
     "data": {
      "image/png": "[encoded data removed]",
      "text/plain": [
       "<Figure size 432x288 with 1 Axes>"
      ]
     },
     "metadata": {
      "needs_background": "light"
     },
     "output_type": "display_data"
    }
   ],
   "source": [
    "# Regular drop outs in the timing at about 45_000 and 54_000\n",
    "inter_t.d.loc[40000:60000].plot()"
   ]
  },
  {
   "cell_type": "code",
   "execution_count": 41,
   "id": "e6f6231e-3c42-44ca-aba0-a85eb08766fc",
   "metadata": {},
   "outputs": [
    {
     "data": {
      "text/plain": [
       "<AxesSubplot:>"
      ]
     },
     "execution_count": 41,
     "metadata": {},
     "output_type": "execute_result"
    },
    {
     "data": {
      "image/png": "[encoded data removed]",
      "text/plain": [
       "<Figure size 432x288 with 1 Axes>"
      ]
     },
     "metadata": {
      "needs_background": "light"
     },
     "output_type": "display_data"
    }
   ],
   "source": [
    "# Same when there is only one axis\n",
    "df = pd.read_csv('digital_1axes.csv')\n",
    "\n",
    "\n",
    "on_t, inter_t = process_timing(df)\n",
    "inter_t.d.loc[40000:60000].plot(marker='.', markersize=.5, linestyle='none')"
   ]
  },
  {
   "cell_type": "code",
   "execution_count": 44,
   "id": "25489c7a-97b6-48a0-b1a4-e8bcd2559287",
   "metadata": {},
   "outputs": [
    {
     "data": {
      "text/plain": [
       "<AxesSubplot:>"
      ]
     },
     "execution_count": 44,
     "metadata": {},
     "output_type": "execute_result"
    },
    {
     "data": {
      "image/png": "[encoded data removed]",
      "text/plain": [
       "<Figure size 432x288 with 1 Axes>"
      ]
     },
     "metadata": {
      "needs_background": "light"
     },
     "output_type": "display_data"
    }
   ],
   "source": [
    "inter_t.d.loc[40200:40400].astype(int).plot(marker='.', markersize=2, linestyle='none')"
   ]
  },
  {
   "cell_type": "code",
   "execution_count": 55,
   "id": "6fe335f5-2f58-492b-ac66-92be7028e86e",
   "metadata": {},
   "outputs": [
    {
     "data": {
      "text/plain": [
       "2.6040310400499976e-05"
      ]
     },
     "execution_count": 55,
     "metadata": {},
     "output_type": "execute_result"
    }
   ],
   "source": [
    "# Expected period\n",
    "1/(1200*32+2)"
   ]
  },
  {
   "cell_type": "code",
   "execution_count": 56,
   "id": "ca409387-14cc-4ee0-b2ba-38eecbe3aad6",
   "metadata": {},
   "outputs": [
    {
     "data": {
      "text/plain": [
       "2.3997678166666667e-05"
      ]
     },
     "execution_count": 56,
     "metadata": {},
     "output_type": "execute_result"
    }
   ],
   "source": [
    "# Actual period\n",
    "inter_t.d.loc[40000:100000].mean()/1e9"
   ]
  },
  {
   "cell_type": "code",
   "execution_count": 58,
   "id": "116744c4-68ec-457f-ae81-c8d38c672892",
   "metadata": {},
   "outputs": [
    {
     "data": {
      "text/plain": [
       "40000.0"
      ]
     },
     "execution_count": 58,
     "metadata": {},
     "output_type": "execute_result"
    }
   ],
   "source": [
    "1/2.5e-5"
   ]
  },
  {
   "cell_type": "code",
   "execution_count": null,
   "id": "0f4507e6-8d6a-4cd1-be46-cc5a961270f0",
   "metadata": {},
   "outputs": [],
   "source": []
  }
 ],
 "metadata": {
  "kernelspec": {
   "display_name": "Python 3 (ipykernel)",
   "language": "python",
   "name": "python3"
  },
  "language_info": {
   "codemirror_mode": {
    "name": "ipython",
    "version": 3
   },
   "file_extension": ".py",
   "mimetype": "text/x-python",
   "name": "python",
   "nbconvert_exporter": "python",
   "pygments_lexer": "ipython3",
   "version": "3.9.12"
  }
 },
 "nbformat": 4,
 "nbformat_minor": 5
}
