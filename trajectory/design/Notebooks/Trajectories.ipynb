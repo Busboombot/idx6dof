{
 "cells": [
  {
   "cell_type": "code",
   "execution_count": 1,
   "metadata": {},
   "outputs": [],
   "source": [
    "%load_ext autoreload\n",
    "%autoreload 2"
   ]
  },
  {
   "cell_type": "markdown",
   "metadata": {},
   "source": [
    "# Computing Trajectories\n",
    "\n",
    "\n",
    "Process, starting with a list of segments, with each segment composed of the same number of axes. \n",
    "\n",
    "1. For each segment, compute the minimum time to run the segment, which is the longest time required for any of the axes running at full velocity\n",
    "2. Set a first guess at the constant velocity for each segment, $t_c$, which calculated without accounting for acceleration, $t_c = x/t$.\n",
    "3. Compute the acceleration times, $t_a$ and $t_d$, from the time to reach the max velocity at max acceleration. \n",
    "4. Set the start and end velocities, $v_0$ and $v_1$, for each segment/axis. $v_{1_1} = v_{0_2} = (v_{c_1} + v_{c_2})/2$ \n",
    "5. Recalculate $v_c$ for each segment/axis, iteratively, to convergence. \n"
   ]
  },
  {
   "cell_type": "markdown",
   "metadata": {},
   "source": [
    "# Fast Change To New Velocity\n",
    "\n",
    "Maybe a fixed-width second at the start and the end of each segment can be reserved for accceleration, and then the rest of the segment runs at a fixed velocity.\n",
    "\n",
    "Max accelerations for the few systems I've tested are at least 2,000,000 steps/sec^2, and the max velocities are in the range of 6,000 to 15,000 steps/sec. So, a comfortable acceleration period is about 0.03 sec, around 200 steps. This technique would work for any segment longer than 0.06 sec. \n",
    "\n",
    "A chain of segments should (must?) have the same direction for all segments for each axis. ( Axes can go in different directions, but each segment of the axis must goin in the same direction. ) \n",
    "\n"
   ]
  },
  {
   "cell_type": "markdown",
   "metadata": {},
   "source": [
    "## Longest Axis\n",
    "\n",
    "For the longest axis:\n",
    "\n",
    "&nbsp;&nbsp;&nbsp;&nbsp;$v_0$ is the initial velocity<br/>\n",
    "&nbsp;&nbsp;&nbsp;&nbsp;$v_1$ is the final velocity<br/>\n",
    "&nbsp;&nbsp;&nbsp;&nbsp;$v_c = v_{max}$ is the velocity at the zero acceleration period<br/>\n",
    "&nbsp;&nbsp;&nbsp;&nbsp;$\\Delta{v_0} = |v_c-v_0|$<br/>\n",
    "&nbsp;&nbsp;&nbsp;&nbsp;$\\Delta{v_1} = |v_c-v_1|$<br/>\n",
    "&nbsp;&nbsp;&nbsp;&nbsp;$t_a = t_d = \\frac{v_{max}}{a_{max}}$ Time to accelerate or decelerate<br/>\n",
    "&nbsp;&nbsp;&nbsp;&nbsp;$x_a = \\frac{v_0+v_c}{2}t_a$ Steps during accel phase <br/>\n",
    "&nbsp;&nbsp;&nbsp;&nbsp;$x_d = \\frac{v_1+v_c}{2}t_d$ Steps during decel phase <br/>\n",
    "&nbsp;&nbsp;&nbsp;&nbsp;$x_c = x - x_a - x_d$<br/>\n",
    "&nbsp;&nbsp;&nbsp;&nbsp;$t_c = \\frac{x_c}{v_{max}}$\n",
    "\n",
    "if $x_c < 0$, then compute a triangular profile. \n",
    "\n",
    "\n",
    "The value for $t_c$ for the longest axis sets the value of $t_c$ for all other axes. \n"
   ]
  },
  {
   "cell_type": "markdown",
   "metadata": {},
   "source": [
    "## Other Axes\n",
    "\n",
    "The calculations for the longest axes sets the value of $t_c$, so for the other axes we have to calculate $v_c$\n",
    "\n",
    "$$\\begin{array}{ll}\n",
    "x_a = \\frac{v_0+v_c}{2}t_a & \\text{Steps during accel phase} \\tag{1}\\label{eq1}\\\\ \n",
    "x_d = \\frac{v_1+v_c}{2}t_d & \\text{Steps during decel phase} \\\\ \n",
    "x_c = x - x_a - x_d & \\text{Steps during constant velocity phase} \\\\\n",
    "v_c' = \\frac{x_c}{t_c} & \\text{Update constant velocity} \\\\\n",
    "\\end{array}$$\n",
    "\n",
    "The series of equations above is iterated ( $v_c \\leftarrow v_c'$ ) until the result converges, $|v_c - v_c'| < \\epsilon$.\n",
    "\n",
    "\n",
    "This references $\\eqref{eq1}$\n",
    "    \n"
   ]
  },
  {
   "cell_type": "code",
   "execution_count": 2,
   "metadata": {},
   "outputs": [
    {
     "name": "stdout",
     "output_type": "stream",
     "text": [
      "1020.4081632653061 (7.6020408163265305, 977.295918367347, 15.10204081632653)\n",
      "997.2407330279051 (7.486203665139526, 977.5275926697209, 14.986203665139527)\n",
      "997.4771353772662 (7.487385676886332, 977.5252286462273, 14.987385676886332)\n"
     ]
    },
    {
     "data": {
      "text/plain": [
       "(997.4747231083952, 7.487373615541976, 977.5252527689161, 14.987373615541976)"
      ]
     },
     "execution_count": 2,
     "metadata": {},
     "output_type": "execute_result"
    }
   ],
   "source": [
    "\n",
    "\n",
    "def solve_axis(x, t_a, t_c, t_d, v_0, v_1):\n",
    "    \n",
    "\n",
    "    v_c = x / t_c\n",
    "    \n",
    "    \n",
    "    def calc_x(v_c):\n",
    "\n",
    "        x_a = (v_0+v_c)*t_a/2\n",
    "        x_d = (v_1+v_c)*t_d/2\n",
    "        x_c = x - x_a - x_d\n",
    "\n",
    "        return x_a, x_c, x_d\n",
    "\n",
    "\n",
    "    def update_vc(v_c):\n",
    "        x_a, x_c, x_d = calc_x(v_c)\n",
    "        v_c_p = x_c / t_c\n",
    "\n",
    "        return v_c_p\n",
    "\n",
    "    for i in range(10):\n",
    "        print(v_c, calc_x(v_c))\n",
    "        v_c_p = update_vc(v_c)\n",
    "\n",
    "        d = abs(v_c - v_c_p)\n",
    "\n",
    "        v_c = v_c_p\n",
    "\n",
    "        if i > 10 or d < 0.1:\n",
    "            return (v_c,)+calc_x(v_c) # v_c, x_a, x_c, x_d\n",
    "\n",
    "            \n",
    "a_max = 500_000\n",
    "v_max = 5000\n",
    "\n",
    "x = 1000\n",
    "\n",
    "v_0 = 500\n",
    "v_1 = 2000\n",
    "\n",
    "t = 1\n",
    "t_a = t_d = v_max / a_max\n",
    "t_c =  t - t_a - t_d\n",
    "\n",
    "solve_axis(x, t_a, t_c, t_d, v_0, v_1)"
   ]
  },
  {
   "cell_type": "markdown",
   "metadata": {},
   "source": [
    "# Acceleration, no initial velocity \n",
    "\n",
    "<img src=\"acceleration-only.png\" width=\"400\" height=\"300\">"
   ]
  },
  {
   "cell_type": "markdown",
   "metadata": {},
   "source": [
    "## Fixed total time \n",
    "\n",
    "$v_t$ is the velocity at time $t$ with constant acceleration $a$.\n",
    "\n",
    "Max distance for time $t$, $x_{max} = \\frac{1}{2}v_at$. But $v_t = at$, so $x_{max} = \\frac{1}{2}{a}t^2$\n",
    "\n",
    "&nbsp;&nbsp;&nbsp;&nbsp;$x_e = \\frac{1}{2}at_c^2$<br/>\n",
    "&nbsp;&nbsp;&nbsp;&nbsp;$x_a = \\frac{1}{2}at_a^2$<br/>\n",
    "&nbsp;&nbsp;&nbsp;&nbsp;$x_c = v_ct_c$<br/>\n",
    "&nbsp;&nbsp;&nbsp;&nbsp;$x_{max} = \\frac{1}{2}v_tt = x_a+x_c+x_e$<br/>\n",
    "\n",
    "The actual distance traveled will be $x_a+x_c$, which is also $x_{max}-x_e$.\n",
    "\n",
    "$x = x_{max}-x_e =  \\frac{1}{2}v_tt - \\frac{1}{2}at_c^2$"
   ]
  },
  {
   "cell_type": "markdown",
   "metadata": {},
   "source": [
    "Solving for $t_c$\n",
    "1. $x =  \\frac{1}{2}at^2 - \\frac{1}{2}at_c^2$\n",
    "1. $2x =  at^2 - at_c^2$\n",
    "1. $at^2 - 2x =  at_c^2$\n",
    "1. $\\frac{(at^2 - 2x)}{a} =  t_c^2$\n",
    "1. $t_c = \\sqrt{\\frac{(at^2 - 2x)}{a}} $"
   ]
  },
  {
   "cell_type": "markdown",
   "metadata": {},
   "source": [
    "The velocity at $t_c$ is $v_c=a{t-t_c}$"
   ]
  },
  {
   "cell_type": "markdown",
   "metadata": {},
   "source": [
    "## Variable total time \n",
    "\n",
    "For the axis that moves the longest distance, maybe we should assume that $v_c$ is $v_{max}$. Then, we calculate the time required to accelerate to either the total distance, or to the top speed. \n",
    "\n",
    "### Constant acceleration\n",
    "\n",
    "if $v = at < v_{max}$:\n",
    "\n",
    "&nbsp;&nbsp;&nbsp;&nbsp;$x=\\frac{1}{2}at^2$<br/>\n",
    "&nbsp;&nbsp;&nbsp;&nbsp;$t = \\sqrt{2x/a}$<br/>\n",
    "&nbsp;&nbsp;&nbsp;&nbsp;$v = at$<br/>\n",
    "\n",
    "### Accelerate to $v_{max}$:\n",
    "\n",
    "&nbsp;&nbsp;&nbsp;&nbsp;$t_a = \\frac{v_{max}}{a}$ Time of acceleration</br>\n",
    "&nbsp;&nbsp;&nbsp;&nbsp;$x_a = \\frac{1}{2}at_a^2$ Distance at end of acceleration</br>\n",
    "&nbsp;&nbsp;&nbsp;&nbsp;$x_c = x - x_a $ Distance to cover in constant velocity period</br>\n",
    "&nbsp;&nbsp;&nbsp;&nbsp;$t_c = \\frac{x_c}{v_{max}}$ Time for constant velocity motion</br>\n",
    "&nbsp;&nbsp;&nbsp;&nbsp;$t =  \\frac{x_c}{v_{max}} + \\frac{v_{max}}{a}$ Total time of segment</br>\n",
    "\n",
    "Maybe the procedure calculates both of these times, and selects the smaller of the two, as long as the velocity constraint is met. \n"
   ]
  },
  {
   "cell_type": "markdown",
   "metadata": {},
   "source": [
    "## Example Calculation"
   ]
  },
  {
   "cell_type": "code",
   "execution_count": 3,
   "metadata": {},
   "outputs": [
    {
     "data": {
      "text/plain": [
       "(200, 1000.0)"
      ]
     },
     "execution_count": 3,
     "metadata": {},
     "output_type": "execute_result"
    }
   ],
   "source": [
    "t = 10\n",
    "a = 20\n",
    "v_t = a*t\n",
    "x_t = .5*a*t**2\n",
    "v_t, x_t"
   ]
  },
  {
   "cell_type": "code",
   "execution_count": 4,
   "metadata": {},
   "outputs": [
    {
     "data": {
      "text/plain": [
       "(250.0, 100, 500, 750.0)"
      ]
     },
     "execution_count": 4,
     "metadata": {},
     "output_type": "execute_result"
    }
   ],
   "source": [
    "t_a = 5\n",
    "x_a = .5*a*t_a**2\n",
    "v_c = v_a = a*t_a\n",
    "t_c = t - t_a\n",
    "x_c = t_c * v_c\n",
    "x =  x_a + x_c\n",
    "ex1 = x_a, v_c, x_c, x\n",
    "ex1"
   ]
  },
  {
   "cell_type": "markdown",
   "metadata": {},
   "source": [
    "So, solving for $x = 750$ with $t=10, a=20$ should yield $t_c=t_a=5$"
   ]
  },
  {
   "cell_type": "code",
   "execution_count": 5,
   "metadata": {},
   "outputs": [],
   "source": [
    "from math import sqrt\n",
    "t_c_2 = sqrt( ( (a*t**2) - 2*x) / a )\n",
    "assert( t_c_2 == t_c)"
   ]
  },
  {
   "cell_type": "markdown",
   "metadata": {},
   "source": [
    "Using the second method, accelerating to $v_{max}$:"
   ]
  },
  {
   "cell_type": "code",
   "execution_count": 6,
   "metadata": {},
   "outputs": [],
   "source": [
    "v_max = v_a # To get same results as first example calc\n",
    "\n",
    "t_a = v_max / a\n",
    "x_a = .5*a*t_c**2\n",
    "x_c = x - x_a\n",
    "t_c_ = x_c/v_max\n",
    "t_ = (x_c/v_max) + v_max/a\n",
    "\n",
    "\n",
    "#assert(t == t_)\n",
    "#assert(t_c == t_c_)\n",
    "#ex2 = x_a, v_max, x_c, x\n",
    "#assert(ex1==ex2)\n",
    "#t_, ex1"
   ]
  },
  {
   "cell_type": "code",
   "execution_count": 7,
   "metadata": {},
   "outputs": [
    {
     "name": "stdout",
     "output_type": "stream",
     "text": [
      "|0.0100 10.2000 0.0000| [    5/0      9995@980        0/980  ]  [    5/0      9995@1000       0/1000 ]\n",
      "|0.0000 10.2051 0.0000| [    0/980   10000@980        0/980  ]  [    0/1000  10000@1000       0/1000 ]\n",
      "|0.0000 10.2000 0.0049| [    0/980    9995@980        5/1475 ]  [    0/1000   9995@1000       5/1000 ]\n",
      "|0.0049 5.0592 0.0152| [    9/1475   9965@1970      26/3485 ]  [    5/1000   4980@1000      15/744  ]\n",
      "|0.0152 2.0321 0.0013| [   64/3485   9931@5000       5/5000 ]  [    9/744     990@487        1/359  ]\n",
      "|0.0013 2.1667 0.0012| [    6/5000   9988@5000       6/5000 ]  [    0/359     500@231        0/115  ]\n",
      "|0.0012 1.9988 0.0000| [    6/5000   9994@5000       0/5000 ]  [    0/115       0@0          0/0    ]\n",
      "|0.0000 1.9500 0.0500| [    0/5000   9750@5000     250/0    ]  [    0/0         0@0          0/0    ]\n",
      "   index  axis        x     v_i     v_f ss      del_t             n        cn  \\\n",
      "0      0     0      5.0     0.0   979.9  a   0.010000  0.000000e+00  0.003054   \n",
      "1      1     1      5.0     0.0  1000.0  a   0.010000  0.000000e+00  0.003023   \n",
      "2      2     0   9995.0   979.9   979.9  c  10.200026  2.000000e+09  0.001021   \n",
      "3      3     1   9995.0  1000.0  1000.0  c  10.200026  2.000000e+09  0.001000   \n",
      "4      4     0  10000.0   979.9   979.9  c  10.205128  2.000000e+09  0.001021   \n",
      "\n",
      "           t  \n",
      "0   0.010000  \n",
      "1   0.010000  \n",
      "2  10.210026  \n",
      "3  10.210026  \n",
      "4  20.415154  \n"
     ]
    }
   ],
   "source": [
    "from trajectory.segments import * \n",
    "\n",
    "sl = SegmentList([Joint(5000, 100_000, 100_000), Joint(1000, 100_000, 100_000)])\n",
    "sl.add_distance_segment([10000, 10000])\n",
    "sl.add_distance_segment([10000, 10000])\n",
    "sl.add_distance_segment([10000, 10000])\n",
    "sl.add_distance_segment([10000, 5000])\n",
    "sl.add_distance_segment([10000, 1000])\n",
    "sl.add_distance_segment([10000, 500])\n",
    "sl.add_distance_segment([10000, 0])\n",
    "sl.add_distance_segment([10000, 0])\n",
    "\n",
    "sl.update()\n",
    "\n",
    "print(sl)\n",
    "\n",
    "print(sl.dataframe.head())\n"
   ]
  },
  {
   "cell_type": "code",
   "execution_count": null,
   "metadata": {},
   "outputs": [],
   "source": []
  }
 ],
 "metadata": {
  "kernelspec": {
   "display_name": "Python 3",
   "language": "python",
   "name": "python3"
  },
  "language_info": {
   "codemirror_mode": {
    "name": "ipython",
    "version": 3
   },
   "file_extension": ".py",
   "mimetype": "text/x-python",
   "name": "python",
   "nbconvert_exporter": "python",
   "pygments_lexer": "ipython3",
   "version": "3.6.9"
  }
 },
 "nbformat": 4,
 "nbformat_minor": 4
}
