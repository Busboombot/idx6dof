{
 "cells": [
  {
   "cell_type": "markdown",
   "metadata": {},
   "source": [
    "# Fixed Point Step Functions.\n",
    "\n",
    "Convert the algorithm for generating steps in the article [\"Generate stepper-motor speed profiles in real time\"](https://www.embedded.com/generate-stepper-motor-speed-profiles-in-real-time/) into a Fixed Point version. \n",
    "\n",
    "The key formula from the article is:\n",
    "\n",
    "<img src=\"https://www.embedded.com/wp-content/uploads/media-1042023-0501feat1eq13.gif\">"
   ]
  },
  {
   "cell_type": "markdown",
   "metadata": {},
   "source": [
    "To make this function work in fixed point, we multiply both sides by a fixed point factor, $\\alpha$:\n",
    "\n",
    "1. $c_i = c_{i-1} - \\frac{2c_{i-1}}{4n_i+1}$\n",
    "1. $c_i\\alpha = {\\alpha}c_{i-1} - \\alpha\\frac{2c_{i-1}}{4n_i+1}$\n",
    "1. ${\\alpha}c_i = {\\alpha}c_{i-1} - \\frac{{\\alpha}2c_{i-1}}{4n_i+1}$\n",
    "\n",
    "Let $c_{\\alpha} = {\\alpha}c_{i-1}$\n",
    "\n",
    "${\\alpha}c_i = c_{\\alpha} - \\frac{2c_{\\alpha}}{4n_i+1}$\n",
    "\n",
    "With assignment notation:\n",
    "\n",
    "$c_{\\alpha} \\leftarrow c_{\\alpha} - \\frac{2c_{\\alpha}}{4n_i+1}$"
   ]
  },
  {
   "cell_type": "code",
   "execution_count": 1,
   "metadata": {},
   "outputs": [],
   "source": [
    "from trajectory import SimSegment as ss\n",
    "import pandas as pd\n",
    "from IPython.display import display\n",
    "import matplotlib.pyplot as plt\n",
    "\n",
    "%matplotlib inline"
   ]
  },
  {
   "cell_type": "code",
   "execution_count": 2,
   "metadata": {},
   "outputs": [
    {
     "data": {
      "text/plain": [
       "(0, 0.03023163905579716, 0, 0)"
      ]
     },
     "execution_count": 2,
     "metadata": {},
     "output_type": "execute_result"
    }
   ],
   "source": [
    "n, cn,ca = ss.initial_params(0,1000,1)\n",
    "n, cn, ca, ca>>8"
   ]
  },
  {
   "cell_type": "code",
   "execution_count": 29,
   "metadata": {},
   "outputs": [
    {
     "name": "stdout",
     "output_type": "stream",
     "text": [
      "12500.0 14 1.453\n"
     ]
    },
    {
     "data": {
      "text/html": [
       "<div>\n",
       "<style scoped>\n",
       "    .dataframe tbody tr th:only-of-type {\n",
       "        vertical-align: middle;\n",
       "    }\n",
       "\n",
       "    .dataframe tbody tr th {\n",
       "        vertical-align: top;\n",
       "    }\n",
       "\n",
       "    .dataframe thead th {\n",
       "        text-align: right;\n",
       "    }\n",
       "</style>\n",
       "<table border=\"1\" class=\"dataframe\">\n",
       "  <thead>\n",
       "    <tr style=\"text-align: right;\">\n",
       "      <th></th>\n",
       "      <th>n</th>\n",
       "      <th>cn</th>\n",
       "      <th>car</th>\n",
       "      <th>ca</th>\n",
       "      <th>ca1</th>\n",
       "      <th>d</th>\n",
       "      <th>cum_d</th>\n",
       "      <th>cum_cn</th>\n",
       "      <th>pct_err</th>\n",
       "    </tr>\n",
       "  </thead>\n",
       "  <tbody>\n",
       "    <tr>\n",
       "      <th>0</th>\n",
       "      <td>0</td>\n",
       "      <td>12500.000000</td>\n",
       "      <td>3200000</td>\n",
       "      <td>12500</td>\n",
       "      <td>1280000.0</td>\n",
       "      <td>0.000000</td>\n",
       "      <td>0.000000</td>\n",
       "      <td>12500.000000</td>\n",
       "      <td>0.000</td>\n",
       "    </tr>\n",
       "    <tr>\n",
       "      <th>1</th>\n",
       "      <td>1</td>\n",
       "      <td>7500.000000</td>\n",
       "      <td>1920000</td>\n",
       "      <td>7500</td>\n",
       "      <td>426667.0</td>\n",
       "      <td>0.000000</td>\n",
       "      <td>0.000000</td>\n",
       "      <td>20000.000000</td>\n",
       "      <td>0.000</td>\n",
       "    </tr>\n",
       "    <tr>\n",
       "      <th>2</th>\n",
       "      <td>2</td>\n",
       "      <td>5833.333333</td>\n",
       "      <td>1493333</td>\n",
       "      <td>5833</td>\n",
       "      <td>229744.0</td>\n",
       "      <td>0.333333</td>\n",
       "      <td>0.333333</td>\n",
       "      <td>25833.333333</td>\n",
       "      <td>0.001</td>\n",
       "    </tr>\n",
       "    <tr>\n",
       "      <th>3</th>\n",
       "      <td>3</td>\n",
       "      <td>4935.897436</td>\n",
       "      <td>1263589</td>\n",
       "      <td>4935</td>\n",
       "      <td>148658.0</td>\n",
       "      <td>0.897436</td>\n",
       "      <td>1.230769</td>\n",
       "      <td>30769.230769</td>\n",
       "      <td>0.004</td>\n",
       "    </tr>\n",
       "    <tr>\n",
       "      <th>4</th>\n",
       "      <td>4</td>\n",
       "      <td>4355.203620</td>\n",
       "      <td>1114931</td>\n",
       "      <td>4355</td>\n",
       "      <td>106184.0</td>\n",
       "      <td>0.203620</td>\n",
       "      <td>1.434389</td>\n",
       "      <td>35124.434389</td>\n",
       "      <td>0.004</td>\n",
       "    </tr>\n",
       "  </tbody>\n",
       "</table>\n",
       "</div>"
      ],
      "text/plain": [
       "   n            cn      car     ca        ca1         d     cum_d  \\\n",
       "0  0  12500.000000  3200000  12500  1280000.0  0.000000  0.000000   \n",
       "1  1   7500.000000  1920000   7500   426667.0  0.000000  0.000000   \n",
       "2  2   5833.333333  1493333   5833   229744.0  0.333333  0.333333   \n",
       "3  3   4935.897436  1263589   4935   148658.0  0.897436  1.230769   \n",
       "4  4   4355.203620  1114931   4355   106184.0  0.203620  1.434389   \n",
       "\n",
       "         cum_cn  pct_err  \n",
       "0  12500.000000    0.000  \n",
       "1  20000.000000    0.000  \n",
       "2  25833.333333    0.001  \n",
       "3  30769.230769    0.004  \n",
       "4  35124.434389    0.004  "
      ]
     },
     "metadata": {},
     "output_type": "display_data"
    },
    {
     "data": {
      "text/html": [
       "<div>\n",
       "<style scoped>\n",
       "    .dataframe tbody tr th:only-of-type {\n",
       "        vertical-align: middle;\n",
       "    }\n",
       "\n",
       "    .dataframe tbody tr th {\n",
       "        vertical-align: top;\n",
       "    }\n",
       "\n",
       "    .dataframe thead th {\n",
       "        text-align: right;\n",
       "    }\n",
       "</style>\n",
       "<table border=\"1\" class=\"dataframe\">\n",
       "  <thead>\n",
       "    <tr style=\"text-align: right;\">\n",
       "      <th></th>\n",
       "      <th>n</th>\n",
       "      <th>cn</th>\n",
       "      <th>car</th>\n",
       "      <th>ca</th>\n",
       "      <th>ca1</th>\n",
       "      <th>d</th>\n",
       "      <th>cum_d</th>\n",
       "      <th>cum_cn</th>\n",
       "      <th>pct_err</th>\n",
       "    </tr>\n",
       "  </thead>\n",
       "  <tbody>\n",
       "    <tr>\n",
       "      <th>5036</th>\n",
       "      <td>5036</td>\n",
       "      <td>130.281539</td>\n",
       "      <td>31659</td>\n",
       "      <td>123</td>\n",
       "      <td>4.0</td>\n",
       "      <td>7.281539</td>\n",
       "      <td>18961.088069</td>\n",
       "      <td>1.306141e+06</td>\n",
       "      <td>1.452</td>\n",
       "    </tr>\n",
       "    <tr>\n",
       "      <th>5037</th>\n",
       "      <td>5037</td>\n",
       "      <td>130.268608</td>\n",
       "      <td>31655</td>\n",
       "      <td>123</td>\n",
       "      <td>4.0</td>\n",
       "      <td>7.268608</td>\n",
       "      <td>18968.356677</td>\n",
       "      <td>1.306271e+06</td>\n",
       "      <td>1.452</td>\n",
       "    </tr>\n",
       "    <tr>\n",
       "      <th>5038</th>\n",
       "      <td>5038</td>\n",
       "      <td>130.255680</td>\n",
       "      <td>31651</td>\n",
       "      <td>123</td>\n",
       "      <td>4.0</td>\n",
       "      <td>7.255680</td>\n",
       "      <td>18975.612356</td>\n",
       "      <td>1.306402e+06</td>\n",
       "      <td>1.453</td>\n",
       "    </tr>\n",
       "    <tr>\n",
       "      <th>5039</th>\n",
       "      <td>5039</td>\n",
       "      <td>130.242756</td>\n",
       "      <td>31647</td>\n",
       "      <td>123</td>\n",
       "      <td>4.0</td>\n",
       "      <td>7.242756</td>\n",
       "      <td>18982.855112</td>\n",
       "      <td>1.306532e+06</td>\n",
       "      <td>1.453</td>\n",
       "    </tr>\n",
       "    <tr>\n",
       "      <th>5040</th>\n",
       "      <td>5040</td>\n",
       "      <td>130.229835</td>\n",
       "      <td>31643</td>\n",
       "      <td>123</td>\n",
       "      <td>NaN</td>\n",
       "      <td>7.229835</td>\n",
       "      <td>18990.084947</td>\n",
       "      <td>1.306662e+06</td>\n",
       "      <td>1.453</td>\n",
       "    </tr>\n",
       "  </tbody>\n",
       "</table>\n",
       "</div>"
      ],
      "text/plain": [
       "         n          cn    car   ca  ca1         d         cum_d        cum_cn  \\\n",
       "5036  5036  130.281539  31659  123  4.0  7.281539  18961.088069  1.306141e+06   \n",
       "5037  5037  130.268608  31655  123  4.0  7.268608  18968.356677  1.306271e+06   \n",
       "5038  5038  130.255680  31651  123  4.0  7.255680  18975.612356  1.306402e+06   \n",
       "5039  5039  130.242756  31647  123  4.0  7.242756  18982.855112  1.306532e+06   \n",
       "5040  5040  130.229835  31643  123  NaN  7.229835  18990.084947  1.306662e+06   \n",
       "\n",
       "      pct_err  \n",
       "5036    1.452  \n",
       "5037    1.452  \n",
       "5038    1.453  \n",
       "5039    1.453  \n",
       "5040    1.453  "
      ]
     },
     "execution_count": 29,
     "metadata": {},
     "output_type": "execute_result"
    }
   ],
   "source": [
    "from math import log, sqrt\n",
    "TIMEBASE=1_000_000 # Counter an delays are measures in 1/TIMEBASE secs\n",
    "FP_BITS = 8 # Number of fraction bits in fixed point representation of cn\n",
    "\n",
    "\n",
    "def initial_params(v0, v1, t, timebase=None):\n",
    "    \"\"\"Set initial parameters, which are a bit different for the first step,\n",
    "    to account for low torque. \"\"\"\n",
    "\n",
    "    # If n is positive, there is a non zero velocity and we are accelerating\n",
    "    # If it is negative, there is a non zero velocity and we are decelerating\n",
    "\n",
    "    timebase = timebase if timebase is not None else TIMEBASE\n",
    "\n",
    "    v0 = float(v0)\n",
    "    v1 = float(v1)\n",
    "\n",
    "    if v0 == 0 and v1 == 0:\n",
    "        # Going nowhere.\n",
    "        n = 0\n",
    "        cn = 0\n",
    "\n",
    "    elif v0 == 0:\n",
    "        # Starting from a stop, so need special\n",
    "        # first delay.\n",
    "        a = abs(v1) / t\n",
    "        n = 0  # n will always be positive, so accelerating\n",
    "        cn = 0.676 * sqrt(2.0 / a) * timebase  # c0 in Equation 15\n",
    "        \n",
    "        assert cn > 0\n",
    "\n",
    "    elif v0 == v1:\n",
    "        # Constant velocity.\n",
    "        n = N_BIG\n",
    "        cn = timebase / abs(v0)\n",
    "    else:\n",
    "        # Normal case, between two non-zero velocities\n",
    "        a = abs(v1 - v0) / t\n",
    "        n = (v0 * v0) / (2.0 * a)  # Equation 16\n",
    "        cn = timebase / abs(v0)\n",
    "\n",
    "        assert n >= 0\n",
    "\n",
    "        # Need to put the sign back on n; n must be negative for deceleration\n",
    "        if abs(v1) < abs(v0):\n",
    "            n = -n\n",
    "\n",
    "   \n",
    "    # Fixed point version of cn\n",
    "    ca = int(cn)<<FP_BITS\n",
    "  \n",
    "    n = int(n)\n",
    "\n",
    "    return n, cn, ca\n",
    "\n",
    "def next_params(n, cn):\n",
    "\n",
    "    n += 1\n",
    "\n",
    "    if cn != 0:\n",
    "        cn = cn - ((2.0 * cn) / ((4.0 * n) + 1)) # Equation 13\n",
    "\n",
    "    return int(n), cn\n",
    "\n",
    "def next_params_xp(n, ca):\n",
    "    \"\"\"Fixed point version of the next_params function\"\"\"\n",
    "\n",
    "    n += 1\n",
    "\n",
    "    if n != 0:\n",
    "         ca = (ca - ((ca << 1) / ((n << 2) + 1)))  # Equation 13\n",
    "\n",
    "    \n",
    "    return n, int(abs(ca))\n",
    "\n",
    "def next_params_bres(n,ca):\n",
    "    pass\n",
    "    \n",
    "\n",
    "def simulate(v0, v1, t):\n",
    "    \n",
    "    n, cn, ca = initial_params(v0,v1,t, timebase=TIMEBASE)\n",
    "   \n",
    "    yield n, cn, ca, ca>>FP_BITS\n",
    "    \n",
    "    x = abs(.5 * (v1 + v0) * t)\n",
    "    \n",
    "    for i in range(int(x)):\n",
    "        _, ca = next_params_xp(n, ca)\n",
    "        n, cn = next_params(n, cn)\n",
    "        \n",
    "        yield n,cn, ca, ca>>FP_BITS\n",
    "     \n",
    "\n",
    "df = pd.DataFrame(list(simulate(80,10000,1)), columns='n cn car ca'.split())\n",
    "df['ca1'] = df.car - df.car.shift(-1) \n",
    "df['d'] = (df.cn-df.ca).abs()\n",
    "df['cum_d'] = df.d.cumsum()\n",
    "df['cum_cn'] = df.cn.cumsum()\n",
    "df['pct_err'] = (df.d.cumsum() / df.cn.cumsum() * 100).round(3)\n",
    "print(df.cn.max(), round(log(df.cn.max())/log(2)), df.pct_err.max() )\n",
    "display(df.head())\n",
    "df.tail()\n",
    "\n",
    "    "
   ]
  },
  {
   "cell_type": "code",
   "execution_count": 14,
   "metadata": {},
   "outputs": [
    {
     "data": {
      "text/plain": [
       "800.0"
      ]
     },
     "execution_count": 14,
     "metadata": {},
     "output_type": "execute_result"
    }
   ],
   "source": [
    "\n",
    "cn"
   ]
  },
  {
   "cell_type": "code",
   "execution_count": 109,
   "metadata": {},
   "outputs": [
    {
     "data": {
      "text/plain": [
       "(19.760893192372297, 51.0)"
      ]
     },
     "execution_count": 109,
     "metadata": {},
     "output_type": "execute_result"
    }
   ],
   "source": [
    "INTERRUPT_PERIOD = 5 #NUmber of TIMEBASE ticks for each update of the Bresenham line update. \n",
    "from fractions import Fraction\n",
    "\n",
    "def next_params_bres(n,cn):\n",
    "    f  = TIMEBASE/cn\n",
    "\n",
    "    intr_per_step = cn/INTERRUPT_PERIOD\n",
    "    r = round((1/intr_per_step)*1000,0)\n",
    "    \n",
    "    return intr_per_step, r\n",
    "    \n",
    "f = 10_000 + 121\n",
    "n, cn, ca = initial_params(f, f+1,1)\n",
    "s, r = next_params_bres(n,cn)\n",
    "s, r"
   ]
  },
  {
   "cell_type": "code",
   "execution_count": 59,
   "metadata": {},
   "outputs": [
    {
     "name": "stdout",
     "output_type": "stream",
     "text": [
      "CPU times: user 59.7 s, sys: 126 ms, total: 59.8 s\n",
      "Wall time: 1min\n"
     ]
    }
   ],
   "source": [
    "%%time\n",
    "errors = set()\n",
    "for i in range(1,2000):\n",
    "    for j in range(1,2000):\n",
    "        r = float(i)/float(j)\n",
    "        f = Fraction(i,j).limit_denominator(100)\n",
    "        errors.add(abs(r-f))"
   ]
  },
  {
   "cell_type": "code",
   "execution_count": 65,
   "metadata": {},
   "outputs": [
    {
     "data": {
      "text/plain": [
       "<matplotlib.axes._subplots.AxesSubplot at 0x7faed0249048>"
      ]
     },
     "execution_count": 65,
     "metadata": {},
     "output_type": "execute_result"
    },
    {
     "data": {
      "image/png": "[encoded data removed]",
      "text/plain": [
       "<Figure size 432x288 with 1 Axes>"
      ]
     },
     "metadata": {
      "needs_background": "light"
     },
     "output_type": "display_data"
    }
   ],
   "source": [
    "s = pd.Series(list(errors))\n",
    "s.hist(bins=50)"
   ]
  },
  {
   "cell_type": "code",
   "execution_count": 94,
   "metadata": {},
   "outputs": [
    {
     "data": {
      "text/plain": [
       "Fraction(17, 13)"
      ]
     },
     "execution_count": 94,
     "metadata": {},
     "output_type": "execute_result"
    }
   ],
   "source": [
    "1/Fraction(13,17)"
   ]
  },
  {
   "cell_type": "code",
   "execution_count": 89,
   "metadata": {},
   "outputs": [
    {
     "name": "stdout",
     "output_type": "stream",
     "text": [
      "CPU times: user 564 ms, sys: 3.26 ms, total: 567 ms\n",
      "Wall time: 566 ms\n"
     ]
    },
    {
     "data": {
      "text/plain": [
       "array([[<matplotlib.axes._subplots.AxesSubplot object at 0x7faed0c3c9b0>,\n",
       "        <matplotlib.axes._subplots.AxesSubplot object at 0x7faef18f62e8>],\n",
       "       [<matplotlib.axes._subplots.AxesSubplot object at 0x7faf20824898>,\n",
       "        <matplotlib.axes._subplots.AxesSubplot object at 0x7faf20858e48>]],\n",
       "      dtype=object)"
      ]
     },
     "execution_count": 89,
     "metadata": {},
     "output_type": "execute_result"
    },
    {
     "data": {
      "image/png": "[encoded data removed]",
      "text/plain": [
       "<Figure size 432x288 with 4 Axes>"
      ]
     },
     "metadata": {
      "needs_background": "light"
     },
     "output_type": "display_data"
    }
   ],
   "source": [
    "%%time\n",
    "\n",
    "nums = []\n",
    "for i in range(1,256):\n",
    "    for j in range(1,i):\n",
    "        r = float(j)/float(i)\n",
    "        f = Fraction(j,i).limit_denominator(100)\n",
    "        nums.append([j,i,float(f), r])\n",
    "        \n",
    "s = pd.DataFrame(list(nums), columns = 'num denom rat real'.split())\n",
    "\n",
    "s.hist(bins=50)"
   ]
  },
  {
   "cell_type": "code",
   "execution_count": 85,
   "metadata": {},
   "outputs": [
    {
     "data": {
      "text/html": [
       "<div>\n",
       "<style scoped>\n",
       "    .dataframe tbody tr th:only-of-type {\n",
       "        vertical-align: middle;\n",
       "    }\n",
       "\n",
       "    .dataframe tbody tr th {\n",
       "        vertical-align: top;\n",
       "    }\n",
       "\n",
       "    .dataframe thead th {\n",
       "        text-align: right;\n",
       "    }\n",
       "</style>\n",
       "<table border=\"1\" class=\"dataframe\">\n",
       "  <thead>\n",
       "    <tr style=\"text-align: right;\">\n",
       "      <th></th>\n",
       "      <th>num</th>\n",
       "      <th>denom</th>\n",
       "      <th>real</th>\n",
       "      <th>rat</th>\n",
       "    </tr>\n",
       "  </thead>\n",
       "  <tbody>\n",
       "    <tr>\n",
       "      <th>count</th>\n",
       "      <td>32385.000000</td>\n",
       "      <td>32385.000000</td>\n",
       "      <td>32385.000000</td>\n",
       "      <td>32385.000000</td>\n",
       "    </tr>\n",
       "    <tr>\n",
       "      <th>mean</th>\n",
       "      <td>85.333333</td>\n",
       "      <td>170.666667</td>\n",
       "      <td>0.500000</td>\n",
       "      <td>0.500000</td>\n",
       "    </tr>\n",
       "    <tr>\n",
       "      <th>std</th>\n",
       "      <td>59.986110</td>\n",
       "      <td>59.986110</td>\n",
       "      <td>0.286443</td>\n",
       "      <td>0.286452</td>\n",
       "    </tr>\n",
       "    <tr>\n",
       "      <th>min</th>\n",
       "      <td>1.000000</td>\n",
       "      <td>2.000000</td>\n",
       "      <td>0.000000</td>\n",
       "      <td>0.003922</td>\n",
       "    </tr>\n",
       "    <tr>\n",
       "      <th>25%</th>\n",
       "      <td>35.000000</td>\n",
       "      <td>128.000000</td>\n",
       "      <td>0.252525</td>\n",
       "      <td>0.251969</td>\n",
       "    </tr>\n",
       "    <tr>\n",
       "      <th>50%</th>\n",
       "      <td>75.000000</td>\n",
       "      <td>181.000000</td>\n",
       "      <td>0.500000</td>\n",
       "      <td>0.500000</td>\n",
       "    </tr>\n",
       "    <tr>\n",
       "      <th>75%</th>\n",
       "      <td>128.000000</td>\n",
       "      <td>221.000000</td>\n",
       "      <td>0.747475</td>\n",
       "      <td>0.748031</td>\n",
       "    </tr>\n",
       "    <tr>\n",
       "      <th>max</th>\n",
       "      <td>254.000000</td>\n",
       "      <td>255.000000</td>\n",
       "      <td>1.000000</td>\n",
       "      <td>0.996078</td>\n",
       "    </tr>\n",
       "  </tbody>\n",
       "</table>\n",
       "</div>"
      ],
      "text/plain": [
       "                num         denom          real           rat\n",
       "count  32385.000000  32385.000000  32385.000000  32385.000000\n",
       "mean      85.333333    170.666667      0.500000      0.500000\n",
       "std       59.986110     59.986110      0.286443      0.286452\n",
       "min        1.000000      2.000000      0.000000      0.003922\n",
       "25%       35.000000    128.000000      0.252525      0.251969\n",
       "50%       75.000000    181.000000      0.500000      0.500000\n",
       "75%      128.000000    221.000000      0.747475      0.748031\n",
       "max      254.000000    255.000000      1.000000      0.996078"
      ]
     },
     "execution_count": 85,
     "metadata": {},
     "output_type": "execute_result"
    }
   ],
   "source": [
    "s.describe()"
   ]
  },
  {
   "cell_type": "code",
   "execution_count": 91,
   "metadata": {},
   "outputs": [
    {
     "data": {
      "text/plain": [
       "3045"
      ]
     },
     "execution_count": 91,
     "metadata": {},
     "output_type": "execute_result"
    }
   ],
   "source": [
    "s.rat.nunique()"
   ]
  },
  {
   "cell_type": "code",
   "execution_count": 104,
   "metadata": {},
   "outputs": [
    {
     "data": {
      "text/plain": [
       "1.386"
      ]
     },
     "execution_count": 104,
     "metadata": {},
     "output_type": "execute_result"
    }
   ],
   "source": [
    "5544/4000\n"
   ]
  },
  {
   "cell_type": "code",
   "execution_count": null,
   "metadata": {},
   "outputs": [],
   "source": []
  }
 ],
 "metadata": {
  "kernelspec": {
   "display_name": "Python 3",
   "language": "python",
   "name": "python3"
  },
  "language_info": {
   "codemirror_mode": {
    "name": "ipython",
    "version": 3
   },
   "file_extension": ".py",
   "mimetype": "text/x-python",
   "name": "python",
   "nbconvert_exporter": "python",
   "pygments_lexer": "ipython3",
   "version": "3.6.9"
  }
 },
 "nbformat": 4,
 "nbformat_minor": 4
}
