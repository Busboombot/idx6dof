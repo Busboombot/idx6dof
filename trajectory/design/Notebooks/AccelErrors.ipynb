{
 "cells": [
  {
   "cell_type": "markdown",
   "metadata": {},
   "source": [
    "# Acceleration Error\n",
    "\n",
    "Test differences in step time in two segments that ought to start and end at the same time. \n"
   ]
  },
  {
   "cell_type": "code",
   "execution_count": 366,
   "metadata": {},
   "outputs": [
    {
     "name": "stdout",
     "output_type": "stream",
     "text": [
      "The autoreload extension is already loaded. To reload it, use:\n",
      "  %reload_ext autoreload\n"
     ]
    }
   ],
   "source": [
    "%load_ext autoreload\n",
    "%autoreload 2\n",
    "%matplotlib inline\n",
    "from math import log, sqrt\n",
    "from itertools import count\n",
    "import pandas as pd\n",
    "import numpy as np\n",
    "period = 4\n",
    "import random\n",
    "from trajectory.segments import SimSegment\n",
    "from trajectory.segments import Joint, SegmentList"
   ]
  },
  {
   "cell_type": "code",
   "execution_count": 163,
   "metadata": {},
   "outputs": [],
   "source": []
  },
  {
   "cell_type": "code",
   "execution_count": 221,
   "metadata": {},
   "outputs": [
    {
     "name": "stdout",
     "output_type": "stream",
     "text": [
      "(0, 4780.0567785218345, 9789556)\n",
      "(0, 15120.545436886301, 30966877)\n",
      "7036\n"
     ]
    }
   ],
   "source": [
    "ss1 = SimSegment(50, 20_000, 5000)\n",
    "ss2 = SimSegment(50, 2_000, 500)\n",
    "print(ss1.initial_params())\n",
    "print(ss2.initial_params())\n",
    "print ( (len(list(ss1.iter_discrete(period)))*period) - (len(list(ss2.iter_discrete(period)))*period) )\n"
   ]
  },
  {
   "cell_type": "code",
   "execution_count": 229,
   "metadata": {},
   "outputs": [
    {
     "data": {
      "text/plain": [
       "0.49263600000041"
      ]
     },
     "execution_count": 229,
     "metadata": {},
     "output_type": "execute_result"
    }
   ],
   "source": [
    "ss2 = SimSegment(50, 2_000, 500)\n",
    "list(ss2.iter_discrete(period))\n",
    "ss2.sim_time"
   ]
  },
  {
   "cell_type": "code",
   "execution_count": 292,
   "metadata": {},
   "outputs": [
    {
     "data": {
      "text/plain": [
       "(50118, 1.192916478232928, 75460, 8566)"
      ]
     },
     "execution_count": 292,
     "metadata": {},
     "output_type": "execute_result"
    }
   ],
   "source": [
    "def calc_segment(x, v0,  v1):\n",
    "    t = abs(2. * float(x) / float(v1+v0) )\n",
    "    a = (v1 - v0) / t\n",
    "    return t\n",
    "\n",
    "def simulate_segment(x, v0,  v1):\n",
    "    period = 4\n",
    "    ss = SimSegment(v0,v1,x)\n",
    "    list(ss.iter_discrete(period))\n",
    "    return ss.sim_time\n",
    "\n",
    "\n",
    "def rand_segment():\n",
    "    a_max = 1_000_000\n",
    "    \n",
    "    while True:\n",
    "        x = random.randint(0,100000)\n",
    "        v0 = random.randint(0,100000)\n",
    "        v1 = random.randint(0,100000)\n",
    "\n",
    "        t = abs(2. * float(x) / float(v1+v0) )\n",
    "        a = (v1 - v0) / t\n",
    "        \n",
    "        if a <= a_max:\n",
    "            return x, t, v0,  v1\n",
    "\n",
    "x, t, v0,  v1 = rand_segment()\n",
    "x, t, v0,  v1\n"
   ]
  },
  {
   "cell_type": "code",
   "execution_count": 294,
   "metadata": {},
   "outputs": [
    {
     "data": {
      "text/plain": [
       "<matplotlib.axes._subplots.AxesSubplot at 0x7fe6a0ebd4a8>"
      ]
     },
     "execution_count": 294,
     "metadata": {},
     "output_type": "execute_result"
    },
    {
     "data": {
      "image/png": "[encoded data removed]",
      "text/plain": [
       "<Figure size 432x288 with 1 Axes>"
      ]
     },
     "metadata": {
      "needs_background": "light"
     },
     "output_type": "display_data"
    }
   ],
   "source": [
    "rs = [rand_segment() for _ in range(500)]\n",
    "\n",
    "df = pd.DataFrame(rs, columns = 'x t v0 v1'.split())\n",
    "\n",
    "df['sim_time'] = df.apply(lambda r : simulate_segment(r['x'], r.v0,  r.v1) , axis=1) \n",
    "\n",
    "df['err'] = (df.t - df.sim_time)/(df.t)\n",
    "df['err'].hist()"
   ]
  },
  {
   "cell_type": "code",
   "execution_count": 276,
   "metadata": {},
   "outputs": [
    {
     "data": {
      "text/html": [
       "<div>\n",
       "<style scoped>\n",
       "    .dataframe tbody tr th:only-of-type {\n",
       "        vertical-align: middle;\n",
       "    }\n",
       "\n",
       "    .dataframe tbody tr th {\n",
       "        vertical-align: top;\n",
       "    }\n",
       "\n",
       "    .dataframe thead th {\n",
       "        text-align: right;\n",
       "    }\n",
       "</style>\n",
       "<table border=\"1\" class=\"dataframe\">\n",
       "  <thead>\n",
       "    <tr style=\"text-align: right;\">\n",
       "      <th></th>\n",
       "      <th>x</th>\n",
       "      <th>t</th>\n",
       "      <th>v0</th>\n",
       "      <th>v1</th>\n",
       "      <th>sim_time</th>\n",
       "      <th>err</th>\n",
       "    </tr>\n",
       "  </thead>\n",
       "  <tbody>\n",
       "    <tr>\n",
       "      <th>87</th>\n",
       "      <td>21549</td>\n",
       "      <td>1.074629</td>\n",
       "      <td>165</td>\n",
       "      <td>39940</td>\n",
       "      <td>130.600000</td>\n",
       "      <td>-120.530303</td>\n",
       "    </tr>\n",
       "    <tr>\n",
       "      <th>8</th>\n",
       "      <td>10657</td>\n",
       "      <td>0.282675</td>\n",
       "      <td>1351</td>\n",
       "      <td>74050</td>\n",
       "      <td>7.888232</td>\n",
       "      <td>-26.905629</td>\n",
       "    </tr>\n",
       "    <tr>\n",
       "      <th>83</th>\n",
       "      <td>5984</td>\n",
       "      <td>0.141803</td>\n",
       "      <td>2071</td>\n",
       "      <td>82328</td>\n",
       "      <td>2.889428</td>\n",
       "      <td>-19.376407</td>\n",
       "    </tr>\n",
       "    <tr>\n",
       "      <th>35</th>\n",
       "      <td>94920</td>\n",
       "      <td>2.622317</td>\n",
       "      <td>3750</td>\n",
       "      <td>68644</td>\n",
       "      <td>25.311988</td>\n",
       "      <td>-8.652529</td>\n",
       "    </tr>\n",
       "    <tr>\n",
       "      <th>56</th>\n",
       "      <td>94297</td>\n",
       "      <td>2.546297</td>\n",
       "      <td>7457</td>\n",
       "      <td>66609</td>\n",
       "      <td>12.645424</td>\n",
       "      <td>-3.966202</td>\n",
       "    </tr>\n",
       "    <tr>\n",
       "      <th>...</th>\n",
       "      <td>...</td>\n",
       "      <td>...</td>\n",
       "      <td>...</td>\n",
       "      <td>...</td>\n",
       "      <td>...</td>\n",
       "      <td>...</td>\n",
       "    </tr>\n",
       "    <tr>\n",
       "      <th>51</th>\n",
       "      <td>83220</td>\n",
       "      <td>1.630119</td>\n",
       "      <td>91340</td>\n",
       "      <td>10763</td>\n",
       "      <td>0.911076</td>\n",
       "      <td>0.441098</td>\n",
       "    </tr>\n",
       "    <tr>\n",
       "      <th>31</th>\n",
       "      <td>85492</td>\n",
       "      <td>2.125371</td>\n",
       "      <td>72900</td>\n",
       "      <td>7549</td>\n",
       "      <td>1.172720</td>\n",
       "      <td>0.448228</td>\n",
       "    </tr>\n",
       "    <tr>\n",
       "      <th>93</th>\n",
       "      <td>44944</td>\n",
       "      <td>0.923074</td>\n",
       "      <td>90798</td>\n",
       "      <td>6581</td>\n",
       "      <td>0.494980</td>\n",
       "      <td>0.463770</td>\n",
       "    </tr>\n",
       "    <tr>\n",
       "      <th>18</th>\n",
       "      <td>27176</td>\n",
       "      <td>0.817717</td>\n",
       "      <td>63481</td>\n",
       "      <td>2987</td>\n",
       "      <td>0.428092</td>\n",
       "      <td>0.476479</td>\n",
       "    </tr>\n",
       "    <tr>\n",
       "      <th>42</th>\n",
       "      <td>80938</td>\n",
       "      <td>1.568733</td>\n",
       "      <td>98818</td>\n",
       "      <td>4371</td>\n",
       "      <td>0.819024</td>\n",
       "      <td>0.477907</td>\n",
       "    </tr>\n",
       "  </tbody>\n",
       "</table>\n",
       "<p>100 rows × 6 columns</p>\n",
       "</div>"
      ],
      "text/plain": [
       "        x         t     v0     v1    sim_time         err\n",
       "87  21549  1.074629    165  39940  130.600000 -120.530303\n",
       "8   10657  0.282675   1351  74050    7.888232  -26.905629\n",
       "83   5984  0.141803   2071  82328    2.889428  -19.376407\n",
       "35  94920  2.622317   3750  68644   25.311988   -8.652529\n",
       "56  94297  2.546297   7457  66609   12.645424   -3.966202\n",
       "..    ...       ...    ...    ...         ...         ...\n",
       "51  83220  1.630119  91340  10763    0.911076    0.441098\n",
       "31  85492  2.125371  72900   7549    1.172720    0.448228\n",
       "93  44944  0.923074  90798   6581    0.494980    0.463770\n",
       "18  27176  0.817717  63481   2987    0.428092    0.476479\n",
       "42  80938  1.568733  98818   4371    0.819024    0.477907\n",
       "\n",
       "[100 rows x 6 columns]"
      ]
     },
     "execution_count": 276,
     "metadata": {},
     "output_type": "execute_result"
    }
   ],
   "source": [
    "df.sort_values('err')"
   ]
  },
  {
   "cell_type": "code",
   "execution_count": 279,
   "metadata": {},
   "outputs": [
    {
     "data": {
      "text/plain": [
       "(100.00000401611489, 0.9950248756218906)"
      ]
     },
     "execution_count": 279,
     "metadata": {},
     "output_type": "execute_result"
    }
   ],
   "source": [
    "simulate_segment(20000, 200,  40000), calc_segment(20000, 200,  40000)"
   ]
  },
  {
   "cell_type": "code",
   "execution_count": 290,
   "metadata": {},
   "outputs": [
    {
     "name": "stdout",
     "output_type": "stream",
     "text": [
      "2 10000.0 20480000\n"
     ]
    },
    {
     "data": {
      "text/plain": [
       "(4.470847999992937, 3.9603960396039604)"
      ]
     },
     "execution_count": 290,
     "metadata": {},
     "output_type": "execute_result"
    }
   ],
   "source": [
    "simulate_segment(20000, 100,  10000), calc_segment(20000, 100,  10000)"
   ]
  },
  {
   "cell_type": "code",
   "execution_count": 362,
   "metadata": {},
   "outputs": [
    {
     "name": "stdout",
     "output_type": "stream",
     "text": [
      "(0, 0, 99, 0, 0, 0)\n",
      "(1, 4.0, 98, 0.0, 4e-06, 0)\n",
      "(355, 1420.0, 97, 708.0000000000042, 0.0014200000000000085, 0.001412429378531065)\n",
      "(356, 1424.0, 96, 710.0000000000042, 0.0014240000000000086, 0.0014084507042253437)\n",
      "(357, 1428.0, 95, 712.0000000000043, 0.0014280000000000087, 0.0014044943820224634)\n",
      "(358, 1432.0, 94, 714.0000000000043, 0.0014320000000000088, 0.0014005602240896274)\n",
      "(359, 1436.0, 93, 716.0000000000044, 0.0014360000000000089, 0.0013966480446927288)\n",
      "(360, 1440.0, 92, 718.0000000000044, 0.001440000000000009, 0.0013927576601671222)\n",
      "(361, 1444.0, 91, 720.0000000000044, 0.001444000000000009, 0.0013888888888888803)\n",
      "(362, 1448.0, 90, 722.0000000000045, 0.0014480000000000092, 0.0013850415512465287)\n",
      "(363, 1452.0, 89, 724.0000000000045, 0.0014520000000000093, 0.001381215469613251)\n",
      "(364, 1456.0, 88, 726.0000000000047, 0.0014560000000000094, 0.0013774104683195504)\n",
      "(365, 1460.0, 87, 728.0000000000047, 0.0014600000000000095, 0.0013736263736263648)\n",
      "(366, 1464.0, 86, 730.0000000000048, 0.0014640000000000096, 0.0013698630136986213)\n",
      "(367, 1468.0, 85, 732.0000000000048, 0.0014680000000000097, 0.001366120218579226)\n",
      "(368, 1472.0, 84, 734.0000000000048, 0.0014720000000000098, 0.0013623978201634788)\n",
      "(369, 1476.0, 83, 736.0000000000049, 0.0014760000000000099, 0.0013586956521739041)\n",
      "(370, 1480.0, 82, 738.0000000000049, 0.00148000000000001, 0.0013550135501354925)\n",
      "(371, 1484.0, 81, 740.000000000005, 0.00148400000000001, 0.0013513513513513423)\n",
      "(372, 1488.0, 80, 742.000000000005, 0.0014880000000000101, 0.0013477088948786972)\n"
     ]
    }
   ],
   "source": [
    "from itertools import islice\n",
    "ss = SimSegment(v0=0, v1=10000, x=100)\n",
    "for e in islice(ss.iter_time(period),20):\n",
    "    print(e)"
   ]
  },
  {
   "cell_type": "code",
   "execution_count": 363,
   "metadata": {},
   "outputs": [
    {
     "data": {
      "text/plain": [
       "((452,\n",
       "  1808.0,\n",
       "  0,\n",
       "  902.0000000000089,\n",
       "  0.001808000000000018,\n",
       "  0.001108647450110854),\n",
       " 100)"
      ]
     },
     "execution_count": 363,
     "metadata": {},
     "output_type": "execute_result"
    }
   ],
   "source": [
    "l = list(ss.iter_time(period))\n",
    "l[-1], len(l)"
   ]
  },
  {
   "cell_type": "code",
   "execution_count": 361,
   "metadata": {},
   "outputs": [
    {
     "data": {
      "text/plain": [
       "0.02"
      ]
     },
     "execution_count": 361,
     "metadata": {},
     "output_type": "execute_result"
    }
   ],
   "source": [
    "calc_segment(100, 0, 10000)"
   ]
  },
  {
   "cell_type": "code",
   "execution_count": 358,
   "metadata": {},
   "outputs": [
    {
     "data": {
      "text/plain": [
       "(0.05714285714285716, 0.05714285714285714)"
      ]
     },
     "execution_count": 358,
     "metadata": {},
     "output_type": "execute_result"
    }
   ],
   "source": [
    "a = 5\n",
    "b = 7\n",
    "\n",
    "( (1/a) - (1/b)), (b-a)/(a*b)"
   ]
  },
  {
   "cell_type": "code",
   "execution_count": 381,
   "metadata": {},
   "outputs": [
    {
     "name": "stdout",
     "output_type": "stream",
     "text": [
      "([a 0.25000  8635     0->69079  (0    ,    20041)] , [a 0.25000   864     0-> 6908  (0    ,   200408)] )\n",
      "([c 1.08333 74835 69079->69079  (0    ,    29647)] , [c 1.08333  7483  6908-> 6908  (0    ,   296461)] )\n",
      "([d 0.25000 16530 69079->63158  (-2   ,    29647)] , [d 0.25000  1653  6908-> 6316  (-2   ,   296461)] )\n",
      "([a 0.25000 16530 63158->69079  (1    ,    32426)] , [a 0.25000  1653  6316-> 6908  (1    ,   324266)] )\n",
      "([c 1.08333 74835 69079->69079  (0    ,    29647)] , [c 1.08333  7483  6908-> 6908  (0    ,   296461)] )\n",
      "([d 0.25000  8635 69079->    0  (0    ,    29647)] , [d 0.25000   864  6908->    0  (0    ,   296461)] )\n"
     ]
    }
   ],
   "source": [
    "sl = SegmentList([Joint(75000, 300_000, 300_000), Joint(75000, 300_000, 300_000)])\n",
    "for i in range(2):\n",
    "    sl.add_distance_segment([100_000, 10_000])\n",
    "\n",
    "sl.update()\n",
    "    \n",
    "ss = []\n",
    "for e in sl.sub_segments:\n",
    "    print(e)\n",
    "    ss.append([SimSegment(x=axis.x, v0=axis.v_i, v1=axis.v_f)  for i, axis in enumerate(e)]) "
   ]
  },
  {
   "cell_type": "code",
   "execution_count": 380,
   "metadata": {},
   "outputs": [
    {
     "name": "stdout",
     "output_type": "stream",
     "text": [
      "[(4006, 0.16655600000008394, 288496.0835591113, 4006, 0, 48077.34), (401, 0.16596000000008335, 28823.660250498757, 401, 0, 4807.97)]\n",
      "[(88141, 1.833299999978622, 0.0, 88141, 48077.34, 48077.34), (8814, 1.83299999997863, 0.0, 8814, 4807.97, 4807.97)]\n",
      "[(7853, 0.16665600000008404, -11538.70529852922, 7853, 48077.34, 46154.13), (785, 0.16639600000008378, -1155.7745559235696, 785, 4807.97, 4615.41)]\n",
      "[(7853, 0.16665600000008404, 11538.70529852922, 7853, 46154.13, 48077.34), (785, 0.16639600000008378, 1155.7745559235696, 785, 4615.41, 4807.97)]\n",
      "[(88141, 1.833299999978622, 0.0, 88141, 48077.34, 48077.34), (8814, 1.83299999997863, 0.0, 8814, 4807.97, 4807.97)]\n",
      "[(4006, 0.16666000000008405, -288496.0835591113, 4006, 48077.34, 0), (401, 0.1668160000000842, -28823.660250498757, 401, 4807.97, 0)]\n"
     ]
    }
   ],
   "source": [
    "def run_ss(ss):\n",
    "    l = list(ss.iter_time(period))\n",
    "    return len(l), ss.sim_time, ss.a, ss.x, ss.v0, ss.v1\n",
    "\n",
    "for i, e in enumerate(ss):\n",
    "    print([run_ss(i) for i in e])"
   ]
  },
  {
   "cell_type": "code",
   "execution_count": null,
   "metadata": {},
   "outputs": [],
   "source": []
  }
 ],
 "metadata": {
  "kernelspec": {
   "display_name": "Python 3",
   "language": "python",
   "name": "python3"
  },
  "language_info": {
   "codemirror_mode": {
    "name": "ipython",
    "version": 3
   },
   "file_extension": ".py",
   "mimetype": "text/x-python",
   "name": "python",
   "nbconvert_exporter": "python",
   "pygments_lexer": "ipython3",
   "version": "3.6.9"
  }
 },
 "nbformat": 4,
 "nbformat_minor": 4
}
