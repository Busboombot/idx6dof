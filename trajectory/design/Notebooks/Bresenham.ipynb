{
 "cells": [
  {
   "cell_type": "code",
   "execution_count": 25,
   "metadata": {},
   "outputs": [],
   "source": [
    "%load_ext autoreload\n",
    "%autoreload 2\n",
    "%matplotlib inline\n",
    "from trajectory import * \n",
    "from trajectory.plot import * \n",
    "import matplotlib.pyplot as plt\n",
    "from IPython.display import display\n",
    "import trajectory as tj\n",
    "import pandas as pd"
   ]
  },
  {
   "cell_type": "code",
   "execution_count": 4,
   "metadata": {},
   "outputs": [],
   "source": [
    "\n",
    "sign = lambda a: 1 if a>0 else -1 if a<0 else 0"
   ]
  },
  {
   "cell_type": "code",
   "execution_count": 24,
   "metadata": {},
   "outputs": [
    {
     "name": "stdout",
     "output_type": "stream",
     "text": [
      "(1, 1, 1, 1)\n",
      "(1, 2, 0, 1)\n",
      "(2, 3, 1, 1)\n",
      "(2, 4, 0, 1)\n",
      "(3, 5, 1, 1)\n",
      "(3, 6, 0, 1)\n",
      "(4, 7, 1, 1)\n",
      "(4, 8, 0, 1)\n",
      "(5, 9, 1, 1)\n",
      "(5, 10, 0, 1)\n",
      "(6, 11, 1, 1)\n",
      "(6, 12, 0, 1)\n",
      "(7, 13, 1, 1)\n"
     ]
    }
   ],
   "source": [
    "class BStepper(object):\n",
    "    \n",
    "    def __init__(self, x_f,y_f):\n",
    "        \n",
    "        self.x_f = x_f\n",
    "        self.y_f = y_f\n",
    "        \n",
    "        self.dx = abs(x_f)\n",
    "        self.sx = sign(x_f)\n",
    "\n",
    "        self.dy = -abs(y_f)\n",
    "        self.sy = sign(y_f)\n",
    "\n",
    "        self.err = self.dx + self.dy\n",
    "\n",
    "        self.x = 0;\n",
    "        self.y = 0;\n",
    "        \n",
    "        self.err = self.dx + self.dy\n",
    "    \n",
    "    def __iter__ (self):\n",
    "        return self\n",
    "        \n",
    "    def __next__(self):\n",
    "        \n",
    "        if (self.x == self.x_f and self.y == self.y_f):\n",
    "            return None, None, None, None\n",
    "        \n",
    "        x_step = 0\n",
    "        y_step = 0;\n",
    "        \n",
    "        e2 = 2*self.err\n",
    "        \n",
    "        if e2 >= self.dy:\n",
    "            self.err += self.dy\n",
    "            self.x += self.sx\n",
    "            x_step = 1\n",
    "            \n",
    "        if e2 <= self.dx:\n",
    "            self.err += self.dx\n",
    "            self.y += self.sy\n",
    "            y_step = 1\n",
    "            \n",
    "        return self.x, self.y, x_step, y_step\n",
    "            \n",
    "        \n",
    "def plot_line (x1,  y1):\n",
    "\n",
    "    x,y = 0,0\n",
    "    \n",
    "    dx = abs(x1)\n",
    "    sx = sign(x1)\n",
    "    \n",
    "    dy = -abs(y1)\n",
    "    sy = sign(y1)\n",
    "    \n",
    "    err = dx + dy\n",
    "    \n",
    "    while True:\n",
    "        yield x,y\n",
    "        if x == x1 and y == y1:\n",
    "            break;\n",
    "        e2 = 2*err;\n",
    "        if e2 >= dy:\n",
    "            err += dy\n",
    "            x += sx\n",
    "            \n",
    "        if e2 <= dx:\n",
    "            err += dx\n",
    "            y += sy\n",
    "            \n",
    "\n",
    "for e in iter(BStepper(7,13)):\n",
    "    if e[0] is None:\n",
    "        break\n",
    "    print(e)\n",
    "            "
   ]
  },
  {
   "cell_type": "code",
   "execution_count": 49,
   "metadata": {},
   "outputs": [
    {
     "data": {
      "text/plain": [
       "((1, 10), (1, 2))"
      ]
     },
     "execution_count": 49,
     "metadata": {},
     "output_type": "execute_result"
    }
   ],
   "source": [
    "from fractions import Fraction\n",
    "\n",
    "base_freq = 1000\n",
    "v0 = 100\n",
    "v1 = 500\n",
    "x = 100\n",
    "\n",
    "100/base_freq * 10000\n",
    "\n",
    "def params(v):\n",
    "    f = Fraction(int(round(v/base_freq * 10000,0)), 10000)\n",
    "    return f.numerator, f.denominator\n",
    "\n",
    "step, limit = params(80)\n",
    "\n",
    "params(100), params(500)"
   ]
  },
  {
   "cell_type": "markdown",
   "metadata": {},
   "source": [
    "uint_8 240\n",
    "uint16_t 240\n",
    "uint32_t 243\n",
    "float 90\n",
    "double 73"
   ]
  }
 ],
 "metadata": {
  "kernelspec": {
   "display_name": "Python 3",
   "language": "python",
   "name": "python3"
  },
  "language_info": {
   "codemirror_mode": {
    "name": "ipython",
    "version": 3
   },
   "file_extension": ".py",
   "mimetype": "text/x-python",
   "name": "python",
   "nbconvert_exporter": "python",
   "pygments_lexer": "ipython3",
   "version": "3.6.9"
  }
 },
 "nbformat": 4,
 "nbformat_minor": 4
}
